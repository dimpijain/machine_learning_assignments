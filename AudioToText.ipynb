{
 "cells": [
  {
   "cell_type": "markdown",
   "id": "2dd66233-813d-4ac0-8061-5b737046dc53",
   "metadata": {},
   "source": [
    "# **Importing Libraries**"
   ]
  },
  {
   "cell_type": "code",
   "execution_count": 1,
   "id": "fc04e8df-5904-46c7-a392-d1d3c5353ec4",
   "metadata": {},
   "outputs": [],
   "source": [
    "import speech_recognition as sr\n",
    "import tkinter as tk\n",
    "from tkinter import filedialog, messagebox"
   ]
  },
  {
   "cell_type": "markdown",
   "id": "8f21bbaa-4abe-4998-aeef-943bfbbf144c",
   "metadata": {},
   "source": [
    "# **Convert Audio To Text**"
   ]
  },
  {
   "cell_type": "code",
   "execution_count": 2,
   "id": "f54ecc0b-bf75-4663-be9e-c03052a03b98",
   "metadata": {},
   "outputs": [],
   "source": [
    "def convert_audio_to_text_pocketsphinx(audio_path):\n",
    "    recognizer = sr.Recognizer()\n",
    "    try:\n",
    "        with sr.AudioFile(audio_path) as source:\n",
    "            audio = recognizer.record(source)\n",
    "            text = recognizer.recognize_sphinx(audio)\n",
    "            return text\n",
    "    except sr.UnknownValueError:\n",
    "        messagebox.showerror(\"Error\", \"Pocketsphinx could not understand the audio.\")\n",
    "        return None\n",
    "    except sr.RequestError as e:\n",
    "        messagebox.showerror(\"Error\", f\"Could not request results from Pocketsphinx service; {e}\")\n",
    "        return None"
   ]
  },
  {
   "cell_type": "markdown",
   "id": "614931b6-99ee-414e-b4ab-d1d399053578",
   "metadata": {},
   "source": [
    "# **Selecting Audio File**"
   ]
  },
  {
   "cell_type": "code",
   "execution_count": 3,
   "id": "61dea884-5258-4a4b-a5a4-9bdee541e4a8",
   "metadata": {},
   "outputs": [],
   "source": [
    "def select_audio_file():\n",
    "    audio_path = filedialog.askopenfilename(filetypes=[(\"Audio files\", \"*.wav\")])\n",
    "    if audio_path:\n",
    "        audio_entry.delete(0, tk.END)\n",
    "        audio_entry.insert(0, audio_path)"
   ]
  },
  {
   "cell_type": "markdown",
   "id": "82116725-ce2b-471a-ae83-d3ab8ef91ba5",
   "metadata": {},
   "source": [
    "# **Convert**"
   ]
  },
  {
   "cell_type": "code",
   "execution_count": 4,
   "id": "ff59d62f-fcea-45ee-ab37-9f7f9325d6f9",
   "metadata": {},
   "outputs": [],
   "source": [
    "def convert():\n",
    "    audio_path = audio_entry.get()\n",
    "    if audio_path:\n",
    "        text = convert_audio_to_text_pocketsphinx(audio_path)\n",
    "        if text:\n",
    "            text_output.delete(1.0, tk.END)\n",
    "            text_output.insert(tk.END, text)\n",
    "    else:\n",
    "        messagebox.showwarning(\"Warning\", \"Please select an audio file.\")"
   ]
  },
  {
   "cell_type": "markdown",
   "id": "de3d298c-013c-4e4a-8b48-a6712a52f12f",
   "metadata": {},
   "source": [
    "# **Main Tkinter Window**"
   ]
  },
  {
   "cell_type": "code",
   "execution_count": null,
   "id": "a06a0f6e-0d0a-4951-aa3e-b2972e16666c",
   "metadata": {},
   "outputs": [],
   "source": [
    "root = tk.Tk()\n",
    "root.title(\"Audio to Text Converter\")\n",
    "\n",
    "tk.Label(root, text=\"Audio File:\").grid(row=0, column=0, padx=10, pady=10)\n",
    "audio_entry = tk.Entry(root, width=50)\n",
    "audio_entry.grid(row=0, column=1, padx=10, pady=10)\n",
    "audio_button = tk.Button(root, text=\"Browse\", command=select_audio_file)\n",
    "audio_button.grid(row=0, column=2, padx=10, pady=10)\n",
    "\n",
    "convert_button = tk.Button(root, text=\"Convert\", command=convert)\n",
    "convert_button.grid(row=1, column=0, columnspan=3, pady=20)\n",
    "\n",
    "tk.Label(root, text=\"Text Output:\").grid(row=2, column=0, padx=10, pady=10)\n",
    "text_output = tk.Text(root, wrap=tk.WORD, width=60, height=15)\n",
    "text_output.grid(row=2, column=1, columnspan=2, padx=10, pady=10)\n",
    "\n",
    "root.mainloop()"
   ]
  },
  {
   "cell_type": "code",
   "execution_count": null,
   "id": "8fc9d683-3593-4eb1-b27f-a69d4435ce4f",
   "metadata": {},
   "outputs": [],
   "source": []
  }
 ],
 "metadata": {
  "kernelspec": {
   "display_name": "Python 3 (ipykernel)",
   "language": "python",
   "name": "python3"
  },
  "language_info": {
   "codemirror_mode": {
    "name": "ipython",
    "version": 3
   },
   "file_extension": ".py",
   "mimetype": "text/x-python",
   "name": "python",
   "nbconvert_exporter": "python",
   "pygments_lexer": "ipython3",
   "version": "3.12.4"
  }
 },
 "nbformat": 4,
 "nbformat_minor": 5
}
