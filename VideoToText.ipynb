{
 "cells": [
  {
   "cell_type": "code",
   "execution_count": 1,
   "id": "43b080e4-909d-49ac-8ebe-1f21427d7f54",
   "metadata": {},
   "outputs": [],
   "source": [
    "import tkinter as tk\n",
    "from tkinter import filedialog, messagebox\n",
    "from moviepy.editor import VideoFileClip\n",
    "import speech_recognition as sr\n",
    "import os\n"
   ]
  },
  {
   "cell_type": "code",
   "execution_count": 2,
   "id": "bf29971a-0cc3-4e26-b209-9789fec7429c",
   "metadata": {},
   "outputs": [],
   "source": [
    "def video_to_audio(video_path, audio_path):\n",
    "    try:\n",
    "        video = VideoFileClip(video_path)\n",
    "        video.audio.write_audiofile(audio_path)\n",
    "        return True\n",
    "    except Exception as e:\n",
    "        messagebox.showerror(\"Error\", f\"An error occurred while extracting audio: {e}\")\n",
    "        return False"
   ]
  },
  {
   "cell_type": "code",
   "execution_count": 3,
   "id": "c8dd12e4-22e0-4f6f-ad97-9e166e477e52",
   "metadata": {},
   "outputs": [],
   "source": [
    "def audio_to_text(audio_path):\n",
    "    recognizer = sr.Recognizer()\n",
    "    try:\n",
    "        with sr.AudioFile(audio_path) as source:\n",
    "            audio = recognizer.record(source)\n",
    "            text = recognizer.recognize_sphinx(audio)\n",
    "            return text\n",
    "    except sr.UnknownValueError:\n",
    "        messagebox.showerror(\"Error\", \"Pocketsphinx could not understand the audio.\")\n",
    "        return None\n",
    "    except sr.RequestError as e:\n",
    "        messagebox.showerror(\"Error\", f\"Could not request results from Pocketsphinx service; {e}\")\n",
    "        return None\n"
   ]
  },
  {
   "cell_type": "code",
   "execution_count": 4,
   "id": "18d5cdae-7073-48eb-bfa4-5ea3e467c619",
   "metadata": {},
   "outputs": [],
   "source": [
    "def convert_video_to_text(video_path, audio_path):\n",
    "    if video_to_audio(video_path, audio_path):\n",
    "        text = audio_to_text(audio_path)\n",
    "        if text:\n",
    "            return text\n",
    "    return None"
   ]
  },
  {
   "cell_type": "code",
   "execution_count": 5,
   "id": "78af0d85-9c6e-4a11-bb4f-4123ca1075fa",
   "metadata": {},
   "outputs": [],
   "source": [
    "def select_video_file():\n",
    "    video_path = filedialog.askopenfilename(filetypes=[(\"Video files\", \"*.mp4 *.avi *.mov *.mkv\")])\n",
    "    if video_path:\n",
    "        video_entry.delete(0, tk.END)\n",
    "        video_entry.insert(0, video_path)"
   ]
  },
  {
   "cell_type": "code",
   "execution_count": 6,
   "id": "8b615bb8-36da-4812-93ef-70bd08f02743",
   "metadata": {},
   "outputs": [],
   "source": [
    "def select_audio_file():\n",
    "    audio_path = filedialog.asksaveasfilename(defaultextension=\".wav\", filetypes=[(\"Audio files\", \"*.wav *.flac *.aiff\")])\n",
    "    if audio_path:\n",
    "        audio_entry.delete(0, tk.END)\n",
    "        audio_entry.insert(0, audio_path)\n"
   ]
  },
  {
   "cell_type": "code",
   "execution_count": 7,
   "id": "11fba45b-cd7d-4221-b050-477ace86487c",
   "metadata": {},
   "outputs": [],
   "source": [
    "def convert():\n",
    "    video_path = video_entry.get()\n",
    "    audio_path = audio_entry.get()\n",
    "    if video_path and audio_path:\n",
    "        text = convert_video_to_text(video_path, audio_path)\n",
    "        if text:\n",
    "            text_output.delete(1.0, tk.END)\n",
    "            text_output.insert(tk.END, text)\n",
    "        else:\n",
    "            messagebox.showwarning(\"Warning\", \"Failed to convert video to text.\")\n",
    "    else:\n",
    "        messagebox.showwarning(\"Warning\", \"Please select both video file and save location for audio file.\")"
   ]
  },
  {
   "cell_type": "code",
   "execution_count": 8,
   "id": "e40e7153-5329-478d-aabc-45e069690b91",
   "metadata": {},
   "outputs": [],
   "source": [
    "root = tk.Tk()\n",
    "root.title(\"Video to Text Converter\")\n",
    "\n",
    "# Video file selection\n",
    "tk.Label(root, text=\"Video File:\").grid(row=0, column=0, padx=10, pady=10)\n",
    "video_entry = tk.Entry(root, width=50)\n",
    "video_entry.grid(row=0, column=1, padx=10, pady=10)\n",
    "video_button = tk.Button(root, text=\"Browse\", command=select_video_file)\n",
    "video_button.grid(row=0, column=2, padx=10, pady=10)\n",
    "\n",
    "# Audio file save location\n",
    "tk.Label(root, text=\"Save Audio As:\").grid(row=1, column=0, padx=10, pady=10)\n",
    "audio_entry = tk.Entry(root, width=50)\n",
    "audio_entry.grid(row=1, column=1, padx=10, pady=10)\n",
    "audio_button = tk.Button(root, text=\"Browse\", command=select_audio_file)\n",
    "audio_button.grid(row=1, column=2, padx=10, pady=10)\n",
    "\n",
    "# Convert button\n",
    "convert_button = tk.Button(root, text=\"Convert\", command=convert)\n",
    "convert_button.grid(row=2, column=0, columnspan=3, pady=20)\n",
    "\n",
    "# Text output area\n",
    "tk.Label(root, text=\"Text Output:\").grid(row=3, column=0, padx=10, pady=10)\n",
    "text_output = tk.Text(root, wrap=tk.WORD, width=60, height=15)\n",
    "text_output.grid(row=3, column=1, columnspan=2, padx=10, pady=10)\n",
    "\n",
    "# Run the application\n",
    "root.mainloop()"
   ]
  },
  {
   "cell_type": "code",
   "execution_count": null,
   "id": "9cb2154c-fe88-499a-a65c-6a19cd9df9bb",
   "metadata": {},
   "outputs": [],
   "source": []
  }
 ],
 "metadata": {
  "kernelspec": {
   "display_name": "Python 3 (ipykernel)",
   "language": "python",
   "name": "python3"
  },
  "language_info": {
   "codemirror_mode": {
    "name": "ipython",
    "version": 3
   },
   "file_extension": ".py",
   "mimetype": "text/x-python",
   "name": "python",
   "nbconvert_exporter": "python",
   "pygments_lexer": "ipython3",
   "version": "3.12.4"
  }
 },
 "nbformat": 4,
 "nbformat_minor": 5
}
